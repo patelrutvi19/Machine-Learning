
import cv2
import numpy as np

def blur_image(image):
    blurred = cv2.GaussianBlur(image, (15, 15), 0)
    return blurred

def sharpen_image(image):
    kernel = np.array([[-1,-1,-1], [-1,9,-1], [-1,-1,-1]])
    sharpened = cv2.filter2D(image, -1, kernel)
    return sharpened

def edge_detection(image):
    edges = cv2.Canny(image, 100, 200)
    return edges

def erode_dilate(image):
    kernel = np.ones((5,5), np.uint8)
    eroded = cv2.erode(image, kernel, iterations=1)
    dilated = cv2.dilate(image, kernel, iterations=1)
    return eroded, dilated

def adjust_contrast(image):
    gray = cv2.cvtColor(image, cv2.COLOR_BGR2GRAY)
    alpha = 1.5  # Contrast control (1.0-3.0)
    adjusted = cv2.convertScaleAbs(gray, alpha=alpha, beta=0)
    return adjusted

def main():
    image_path = input("Enter the path to the image file: ")
    image = cv2.imread(image_path)

    if image is None:
        print("Error: Image not found.")
        return

    while True:
        print("\nSelect an option:")
        print("1. Blur Image")
        print("2. Sharpen Image")
        print("3. Edge Detection")
        print("4. Erode and Dilate")
        print("5. Adjust Contrast (Grayscale)")
        print("6. Exit")

        choice = input("Enter your choice (1-6): ")

        if choice == '1':
            blurred_image = blur_image(image)
            cv2.imshow('Blurred Image', blurred_image)
            cv2.waitKey(0)
            cv2.destroyAllWindows()
        elif choice == '2':
            sharpened_image = sharpen_image(image)
            cv2.imshow('Sharpened Image', sharpened_image)
            cv2.waitKey(0)
            cv2.destroyAllWindows()
        elif choice == '3':
            edges_image = edge_detection(image)
            cv2.imshow('Edges Detected', edges_image)
            cv2.waitKey(0)
            cv2.destroyAllWindows()
        elif choice == '4':
            eroded_image, dilated_image = erode_dilate(image)
            cv2.imshow('Eroded Image', eroded_image)
            cv2.imshow('Dilated Image', dilated_image)
            cv2.waitKey(0)
            cv2.destroyAllWindows()
        elif choice == '5':
            contrast_image = adjust_contrast(image)
            cv2.imshow('Contrast Adjusted', contrast_image)
            cv2.waitKey(0)
            cv2.destroyAllWindows()
        elif choice == '6':
            print("Exiting program.")
            break
        else:
            print("Invalid choice. Please enter a number between 1 and 6.")

if __name__ == "__main__":
    main()
Enter the path to the image file: D:\Milan\Machime Learning\Dog.jpg

Select an option:
1. Blur Image
2. Sharpen Image
3. Edge Detection
4. Erode and Dilate
5. Adjust Contrast (Grayscale)
6. Exit
Enter your choice (1-6): 1

Select an option:
1. Blur Image
2. Sharpen Image
3. Edge Detection
4. Erode and Dilate
5. Adjust Contrast (Grayscale)
6. Exit
Enter your choice (1-6): 6
Exiting program.
 
