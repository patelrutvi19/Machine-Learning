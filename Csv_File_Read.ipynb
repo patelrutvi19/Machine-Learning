
import pandas as pd

df = pd.read_csv("cars1.csv")
print(df)
             Model Name   mpg  cyl   disp   hp  drat     wt  gear
0             Mazda RX4  21.0    6  160.0  110  3.90  2.620     4
1         Mazda RX4 Wag  21.0    6  160.0  110  3.90  2.875     4
2            Datsun 710  22.8    4  108.0   93  3.85  2.320     4
3        Hornet 4 Drive  21.4    6  258.0  110  3.08  3.215     3
4     Hornet Sportabout  18.7    8  360.0  175  3.15  3.440     3
5               Valiant  18.1    6  225.0  105  2.76  3.460     3
6            Duster 360  14.3    8  360.0  245  3.21  3.570     3
7             Merc 240D  24.4    4  146.7   62  3.69  3.190     4
8              Merc 230  22.8    4  140.8   95  3.92  3.150     4
9              Merc 280  19.2    6  167.6  123  3.92  3.440     4
10            Merc 280C  17.8    6  167.6  123  3.92  3.440     4
11           Merc 450SE  16.4    8  275.8  180  3.07  4.070     3
12           Merc 450SL  17.3    8  275.8  180  3.07  3.730     3
13          Merc 450SLC  15.2    8  275.8  180  3.07  3.780     3
14   Cadillac Fleetwood  10.4    8  472.0  205  2.93  5.250     3
15  Lincoln Continental  10.4    8  460.0  215  3.00  5.424     3
16    Chrysler Imperial  14.7    8  440.0  230  3.23  5.345     3
17             Fiat 128  32.4    4   78.7   66  4.08  2.200     4
18          Honda Civic  30.4    4   75.7   52  4.93  1.615     4
19       Toyota Corolla  33.9    4   71.1   65  4.22  1.835     4
20        Toyota Corona  21.5    4  120.1   97  3.70  2.465     3
21     Dodge Challenger  15.5    8  318.0  150  2.76  3.520     3
22          AMC Javelin  15.2    8  304.0  150  3.15  3.435     3
23           Camaro Z28  13.3    8  350.0  245  3.73  3.840     3
24     Pontiac Firebird  19.2    8  400.0  175  3.08  3.845     3
25            Fiat X1-9  27.3    4   79.0   66  4.08  1.935     4
26        Porsche 914-2  26.0    4  120.3   91  4.43  2.140     5
27         Lotus Europa  30.4    4   95.1  113  3.77  1.513     5
28       Ford Pantera L  15.8    8  351.0  264  4.22  3.170     5
29         Ferrari Dino  19.7    6  145.0  175  3.62  2.770     5
30        Maserati Bora  15.0    8  301.0  335  3.54  3.570     5
31           Volvo 142E  21.4    4  121.0  109  4.11  2.780     4
print(len(df))
32
print(df.shape)
(32, 8)
print(df.columns.tolist())
['Model Name', 'mpg', 'cyl', 'disp', 'hp', 'drat', 'wt', 'gear']
print(df.isnull().sum())
Model Name    0
mpg           0
cyl           0
disp          0
hp            0
drat          0
wt            0
gear          0
dtype: int64
# print(df.isnull())
print(df.ndim)
2
# print(df)
# Remove Rows with Any Missing Values (Default Behavior) dropna()
df1 = df.dropna()
print(df1)
             Model Name   mpg  cyl   disp   hp  drat     wt  gear
0             Mazda RX4  21.0    6  160.0  110  3.90  2.620     4
1         Mazda RX4 Wag  21.0    6  160.0  110  3.90  2.875     4
2            Datsun 710  22.8    4  108.0   93  3.85  2.320     4
3        Hornet 4 Drive  21.4    6  258.0  110  3.08  3.215     3
4     Hornet Sportabout  18.7    8  360.0  175  3.15  3.440     3
5               Valiant  18.1    6  225.0  105  2.76  3.460     3
6            Duster 360  14.3    8  360.0  245  3.21  3.570     3
7             Merc 240D  24.4    4  146.7   62  3.69  3.190     4
8              Merc 230  22.8    4  140.8   95  3.92  3.150     4
9              Merc 280  19.2    6  167.6  123  3.92  3.440     4
10            Merc 280C  17.8    6  167.6  123  3.92  3.440     4
11           Merc 450SE  16.4    8  275.8  180  3.07  4.070     3
12           Merc 450SL  17.3    8  275.8  180  3.07  3.730     3
13          Merc 450SLC  15.2    8  275.8  180  3.07  3.780     3
14   Cadillac Fleetwood  10.4    8  472.0  205  2.93  5.250     3
15  Lincoln Continental  10.4    8  460.0  215  3.00  5.424     3
16    Chrysler Imperial  14.7    8  440.0  230  3.23  5.345     3
17             Fiat 128  32.4    4   78.7   66  4.08  2.200     4
18          Honda Civic  30.4    4   75.7   52  4.93  1.615     4
19       Toyota Corolla  33.9    4   71.1   65  4.22  1.835     4
20        Toyota Corona  21.5    4  120.1   97  3.70  2.465     3
21     Dodge Challenger  15.5    8  318.0  150  2.76  3.520     3
22          AMC Javelin  15.2    8  304.0  150  3.15  3.435     3
23           Camaro Z28  13.3    8  350.0  245  3.73  3.840     3
24     Pontiac Firebird  19.2    8  400.0  175  3.08  3.845     3
25            Fiat X1-9  27.3    4   79.0   66  4.08  1.935     4
26        Porsche 914-2  26.0    4  120.3   91  4.43  2.140     5
27         Lotus Europa  30.4    4   95.1  113  3.77  1.513     5
28       Ford Pantera L  15.8    8  351.0  264  4.22  3.170     5
29         Ferrari Dino  19.7    6  145.0  175  3.62  2.770     5
30        Maserati Bora  15.0    8  301.0  335  3.54  3.570     5
31           Volvo 142E  21.4    4  121.0  109  4.11  2.780     4
# df.dropna(axis=1, how='all',inplace=True)
df.dropna(axis=1)
print(df)
             Model Name   mpg  cyl   disp   hp  drat     wt  gear
0             Mazda RX4  21.0    6  160.0  110  3.90  2.620     4
1         Mazda RX4 Wag  21.0    6  160.0  110  3.90  2.875     4
2            Datsun 710  22.8    4  108.0   93  3.85  2.320     4
3        Hornet 4 Drive  21.4    6  258.0  110  3.08  3.215     3
4     Hornet Sportabout  18.7    8  360.0  175  3.15  3.440     3
5               Valiant  18.1    6  225.0  105  2.76  3.460     3
6            Duster 360  14.3    8  360.0  245  3.21  3.570     3
7             Merc 240D  24.4    4  146.7   62  3.69  3.190     4
8              Merc 230  22.8    4  140.8   95  3.92  3.150     4
9              Merc 280  19.2    6  167.6  123  3.92  3.440     4
10            Merc 280C  17.8    6  167.6  123  3.92  3.440     4
11           Merc 450SE  16.4    8  275.8  180  3.07  4.070     3
12           Merc 450SL  17.3    8  275.8  180  3.07  3.730     3
13          Merc 450SLC  15.2    8  275.8  180  3.07  3.780     3
14   Cadillac Fleetwood  10.4    8  472.0  205  2.93  5.250     3
15  Lincoln Continental  10.4    8  460.0  215  3.00  5.424     3
16    Chrysler Imperial  14.7    8  440.0  230  3.23  5.345     3
17             Fiat 128  32.4    4   78.7   66  4.08  2.200     4
18          Honda Civic  30.4    4   75.7   52  4.93  1.615     4
19       Toyota Corolla  33.9    4   71.1   65  4.22  1.835     4
20        Toyota Corona  21.5    4  120.1   97  3.70  2.465     3
21     Dodge Challenger  15.5    8  318.0  150  2.76  3.520     3
22          AMC Javelin  15.2    8  304.0  150  3.15  3.435     3
23           Camaro Z28  13.3    8  350.0  245  3.73  3.840     3
24     Pontiac Firebird  19.2    8  400.0  175  3.08  3.845     3
25            Fiat X1-9  27.3    4   79.0   66  4.08  1.935     4
26        Porsche 914-2  26.0    4  120.3   91  4.43  2.140     5
27         Lotus Europa  30.4    4   95.1  113  3.77  1.513     5
28       Ford Pantera L  15.8    8  351.0  264  4.22  3.170     5
29         Ferrari Dino  19.7    6  145.0  175  3.62  2.770     5
30        Maserati Bora  15.0    8  301.0  335  3.54  3.570     5
31           Volvo 142E  21.4    4  121.0  109  4.11  2.780     4
Fill Null Values with another value
df.fillna(0,inplace=True)
print(df)
             Model Name   mpg  cyl   disp   hp  drat     wt  gear
0             Mazda RX4  21.0    6  160.0  110  3.90  2.620     4
1         Mazda RX4 Wag  21.0    6  160.0  110  3.90  2.875     4
2            Datsun 710  22.8    4  108.0   93  3.85  2.320     4
3        Hornet 4 Drive  21.4    6  258.0  110  3.08  3.215     3
4     Hornet Sportabout  18.7    8  360.0  175  3.15  3.440     3
5               Valiant  18.1    6  225.0  105  2.76  3.460     3
6            Duster 360  14.3    8  360.0  245  3.21  3.570     3
7             Merc 240D  24.4    4  146.7   62  3.69  3.190     4
8              Merc 230  22.8    4  140.8   95  3.92  3.150     4
9              Merc 280  19.2    6  167.6  123  3.92  3.440     4
10            Merc 280C  17.8    6  167.6  123  3.92  3.440     4
11           Merc 450SE  16.4    8  275.8  180  3.07  4.070     3
12           Merc 450SL  17.3    8  275.8  180  3.07  3.730     3
13          Merc 450SLC  15.2    8  275.8  180  3.07  3.780     3
14   Cadillac Fleetwood  10.4    8  472.0  205  2.93  5.250     3
15  Lincoln Continental  10.4    8  460.0  215  3.00  5.424     3
16    Chrysler Imperial  14.7    8  440.0  230  3.23  5.345     3
17             Fiat 128  32.4    4   78.7   66  4.08  2.200     4
18          Honda Civic  30.4    4   75.7   52  4.93  1.615     4
19       Toyota Corolla  33.9    4   71.1   65  4.22  1.835     4
20        Toyota Corona  21.5    4  120.1   97  3.70  2.465     3
21     Dodge Challenger  15.5    8  318.0  150  2.76  3.520     3
22          AMC Javelin  15.2    8  304.0  150  3.15  3.435     3
23           Camaro Z28  13.3    8  350.0  245  3.73  3.840     3
24     Pontiac Firebird  19.2    8  400.0  175  3.08  3.845     3
25            Fiat X1-9  27.3    4   79.0   66  4.08  1.935     4
26        Porsche 914-2  26.0    4  120.3   91  4.43  2.140     5
27         Lotus Europa  30.4    4   95.1  113  3.77  1.513     5
28       Ford Pantera L  15.8    8  351.0  264  4.22  3.170     5
29         Ferrari Dino  19.7    6  145.0  175  3.62  2.770     5
30        Maserati Bora  15.0    8  301.0  335  3.54  3.570     5
31           Volvo 142E  21.4    4  121.0  109  4.11  2.780     4
ndf = df.drop('wt' ,axis=1)
print(ndf)
             Model Name   mpg  cyl   disp   hp  drat  gear
0             Mazda RX4  21.0    6  160.0  110  3.90     4
1         Mazda RX4 Wag  21.0    6  160.0  110  3.90     4
2            Datsun 710  22.8    4  108.0   93  3.85     4
3        Hornet 4 Drive  21.4    6  258.0  110  3.08     3
4     Hornet Sportabout  18.7    8  360.0  175  3.15     3
5               Valiant  18.1    6  225.0  105  2.76     3
6            Duster 360  14.3    8  360.0  245  3.21     3
7             Merc 240D  24.4    4  146.7   62  3.69     4
8              Merc 230  22.8    4  140.8   95  3.92     4
9              Merc 280  19.2    6  167.6  123  3.92     4
10            Merc 280C  17.8    6  167.6  123  3.92     4
11           Merc 450SE  16.4    8  275.8  180  3.07     3
12           Merc 450SL  17.3    8  275.8  180  3.07     3
13          Merc 450SLC  15.2    8  275.8  180  3.07     3
14   Cadillac Fleetwood  10.4    8  472.0  205  2.93     3
15  Lincoln Continental  10.4    8  460.0  215  3.00     3
16    Chrysler Imperial  14.7    8  440.0  230  3.23     3
17             Fiat 128  32.4    4   78.7   66  4.08     4
18          Honda Civic  30.4    4   75.7   52  4.93     4
19       Toyota Corolla  33.9    4   71.1   65  4.22     4
20        Toyota Corona  21.5    4  120.1   97  3.70     3
21     Dodge Challenger  15.5    8  318.0  150  2.76     3
22          AMC Javelin  15.2    8  304.0  150  3.15     3
23           Camaro Z28  13.3    8  350.0  245  3.73     3
24     Pontiac Firebird  19.2    8  400.0  175  3.08     3
25            Fiat X1-9  27.3    4   79.0   66  4.08     4
26        Porsche 914-2  26.0    4  120.3   91  4.43     5
27         Lotus Europa  30.4    4   95.1  113  3.77     5
28       Ford Pantera L  15.8    8  351.0  264  4.22     5
29         Ferrari Dino  19.7    6  145.0  175  3.62     5
30        Maserati Bora  15.0    8  301.0  335  3.54     5
31           Volvo 142E  21.4    4  121.0  109  4.11     4
Drop Duplicate rows from dataframe
df.drop_duplicates()
student_id	first_name	last_name	age	grade
0	1	John	Doe	18	12
1	2	Jane	Smith	17	11
2	3	Michael	Johnson	16	10
3	4	Emily	Williams	18	12
4	5	Robert	Brown	17	11
5	6	Sarah	Miller	16	10
6	7	William	Jones	18	12
7	8	Olivia	Davis	17	11
8	9	James	Garcia	16	10
9	10	Elizabeth	Rodriguez	18	12
10	11	Alexander	Martinez	17	11
11	12	Sophia	Hernandez	16	10
12	13	Benjamin	Lopez	18	12
13	14	Isabella	Gonzalez	17	11
14	15	Mason	Wilson	16	10
15	16	Evelyn	Anderson	18	12
16	17	Liam	Thomas	17	11
17	18	Ava	Taylor	16	10
18	19	Ethan	Moore	18	12
19	20	Mia	Jackson	17	11
20	21	Lucas	Martin	16	10
21	22	Charlotte	Thompson	18	12
22	23	0	0	17	11
23	24	Amelia	Harris	16	10
24	25	Jacob	Clark	18	12
 
