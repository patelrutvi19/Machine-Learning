{
 "cells": [
  {
   "cell_type": "code",
   "execution_count": 2,
   "id": "77224193",
   "metadata": {},
   "outputs": [
    {
     "name": "stdout",
     "output_type": "stream",
     "text": [
      "             Model Name   mpg  cyl   disp   hp  drat     wt  gear\n",
      "0             Mazda RX4  21.0    6  160.0  110  3.90  2.620     4\n",
      "1         Mazda RX4 Wag  21.0    6  160.0  110  3.90  2.875     4\n",
      "2            Datsun 710  22.8    4  108.0   93  3.85  2.320     4\n",
      "3        Hornet 4 Drive  21.4    6  258.0  110  3.08  3.215     3\n",
      "4     Hornet Sportabout  18.7    8  360.0  175  3.15  3.440     3\n",
      "5               Valiant  18.1    6  225.0  105  2.76  3.460     3\n",
      "6            Duster 360  14.3    8  360.0  245  3.21  3.570     3\n",
      "7             Merc 240D  24.4    4  146.7   62  3.69  3.190     4\n",
      "8              Merc 230  22.8    4  140.8   95  3.92  3.150     4\n",
      "9              Merc 280  19.2    6  167.6  123  3.92  3.440     4\n",
      "10            Merc 280C  17.8    6  167.6  123  3.92  3.440     4\n",
      "11           Merc 450SE  16.4    8  275.8  180  3.07  4.070     3\n",
      "12           Merc 450SL  17.3    8  275.8  180  3.07  3.730     3\n",
      "13          Merc 450SLC  15.2    8  275.8  180  3.07  3.780     3\n",
      "14   Cadillac Fleetwood  10.4    8  472.0  205  2.93  5.250     3\n",
      "15  Lincoln Continental  10.4    8  460.0  215  3.00  5.424     3\n",
      "16    Chrysler Imperial  14.7    8  440.0  230  3.23  5.345     3\n",
      "17             Fiat 128  32.4    4   78.7   66  4.08  2.200     4\n",
      "18          Honda Civic  30.4    4   75.7   52  4.93  1.615     4\n",
      "19       Toyota Corolla  33.9    4   71.1   65  4.22  1.835     4\n",
      "20        Toyota Corona  21.5    4  120.1   97  3.70  2.465     3\n",
      "21     Dodge Challenger  15.5    8  318.0  150  2.76  3.520     3\n",
      "22          AMC Javelin  15.2    8  304.0  150  3.15  3.435     3\n",
      "23           Camaro Z28  13.3    8  350.0  245  3.73  3.840     3\n",
      "24     Pontiac Firebird  19.2    8  400.0  175  3.08  3.845     3\n",
      "25            Fiat X1-9  27.3    4   79.0   66  4.08  1.935     4\n",
      "26        Porsche 914-2  26.0    4  120.3   91  4.43  2.140     5\n",
      "27         Lotus Europa  30.4    4   95.1  113  3.77  1.513     5\n",
      "28       Ford Pantera L  15.8    8  351.0  264  4.22  3.170     5\n",
      "29         Ferrari Dino  19.7    6  145.0  175  3.62  2.770     5\n",
      "30        Maserati Bora  15.0    8  301.0  335  3.54  3.570     5\n",
      "31           Volvo 142E  21.4    4  121.0  109  4.11  2.780     4\n"
     ]
    }
   ],
   "source": [
    "import pandas as pd\n",
    "\n",
    "df = pd.read_csv(\"cars1.csv\")\n",
    "print(df)"
   ]
  },
  {
   "cell_type": "code",
   "execution_count": 3,
   "id": "ddf2d99d",
   "metadata": {},
   "outputs": [
    {
     "name": "stdout",
     "output_type": "stream",
     "text": [
      "32\n"
     ]
    }
   ],
   "source": [
    "print(len(df))"
   ]
  },
  {
   "cell_type": "code",
   "execution_count": 4,
   "id": "f3192632",
   "metadata": {},
   "outputs": [
    {
     "name": "stdout",
     "output_type": "stream",
     "text": [
      "(32, 8)\n"
     ]
    }
   ],
   "source": [
    "print(df.shape)"
   ]
  },
  {
   "cell_type": "code",
   "execution_count": 5,
   "id": "ff024c1b",
   "metadata": {},
   "outputs": [
    {
     "name": "stdout",
     "output_type": "stream",
     "text": [
      "['Model Name', 'mpg', 'cyl', 'disp', 'hp', 'drat', 'wt', 'gear']\n"
     ]
    }
   ],
   "source": [
    "print(df.columns.tolist())"
   ]
  },
  {
   "cell_type": "code",
   "execution_count": 6,
   "id": "3d3427e6",
   "metadata": {},
   "outputs": [
    {
     "name": "stdout",
     "output_type": "stream",
     "text": [
      "Model Name    0\n",
      "mpg           0\n",
      "cyl           0\n",
      "disp          0\n",
      "hp            0\n",
      "drat          0\n",
      "wt            0\n",
      "gear          0\n",
      "dtype: int64\n"
     ]
    }
   ],
   "source": [
    "print(df.isnull().sum())"
   ]
  },
  {
   "cell_type": "code",
   "execution_count": 7,
   "id": "3b87663b",
   "metadata": {},
   "outputs": [
    {
     "name": "stdout",
     "output_type": "stream",
     "text": [
      "2\n"
     ]
    }
   ],
   "source": [
    "# print(df.isnull())\n",
    "print(df.ndim)"
   ]
  },
  {
   "cell_type": "code",
   "execution_count": 8,
   "id": "66747992",
   "metadata": {},
   "outputs": [
    {
     "name": "stdout",
     "output_type": "stream",
     "text": [
      "             Model Name   mpg  cyl   disp   hp  drat     wt  gear\n",
      "0             Mazda RX4  21.0    6  160.0  110  3.90  2.620     4\n",
      "1         Mazda RX4 Wag  21.0    6  160.0  110  3.90  2.875     4\n",
      "2            Datsun 710  22.8    4  108.0   93  3.85  2.320     4\n",
      "3        Hornet 4 Drive  21.4    6  258.0  110  3.08  3.215     3\n",
      "4     Hornet Sportabout  18.7    8  360.0  175  3.15  3.440     3\n",
      "5               Valiant  18.1    6  225.0  105  2.76  3.460     3\n",
      "6            Duster 360  14.3    8  360.0  245  3.21  3.570     3\n",
      "7             Merc 240D  24.4    4  146.7   62  3.69  3.190     4\n",
      "8              Merc 230  22.8    4  140.8   95  3.92  3.150     4\n",
      "9              Merc 280  19.2    6  167.6  123  3.92  3.440     4\n",
      "10            Merc 280C  17.8    6  167.6  123  3.92  3.440     4\n",
      "11           Merc 450SE  16.4    8  275.8  180  3.07  4.070     3\n",
      "12           Merc 450SL  17.3    8  275.8  180  3.07  3.730     3\n",
      "13          Merc 450SLC  15.2    8  275.8  180  3.07  3.780     3\n",
      "14   Cadillac Fleetwood  10.4    8  472.0  205  2.93  5.250     3\n",
      "15  Lincoln Continental  10.4    8  460.0  215  3.00  5.424     3\n",
      "16    Chrysler Imperial  14.7    8  440.0  230  3.23  5.345     3\n",
      "17             Fiat 128  32.4    4   78.7   66  4.08  2.200     4\n",
      "18          Honda Civic  30.4    4   75.7   52  4.93  1.615     4\n",
      "19       Toyota Corolla  33.9    4   71.1   65  4.22  1.835     4\n",
      "20        Toyota Corona  21.5    4  120.1   97  3.70  2.465     3\n",
      "21     Dodge Challenger  15.5    8  318.0  150  2.76  3.520     3\n",
      "22          AMC Javelin  15.2    8  304.0  150  3.15  3.435     3\n",
      "23           Camaro Z28  13.3    8  350.0  245  3.73  3.840     3\n",
      "24     Pontiac Firebird  19.2    8  400.0  175  3.08  3.845     3\n",
      "25            Fiat X1-9  27.3    4   79.0   66  4.08  1.935     4\n",
      "26        Porsche 914-2  26.0    4  120.3   91  4.43  2.140     5\n",
      "27         Lotus Europa  30.4    4   95.1  113  3.77  1.513     5\n",
      "28       Ford Pantera L  15.8    8  351.0  264  4.22  3.170     5\n",
      "29         Ferrari Dino  19.7    6  145.0  175  3.62  2.770     5\n",
      "30        Maserati Bora  15.0    8  301.0  335  3.54  3.570     5\n",
      "31           Volvo 142E  21.4    4  121.0  109  4.11  2.780     4\n"
     ]
    }
   ],
   "source": [
    "# print(df)\n",
    "# Remove Rows with Any Missing Values (Default Behavior) dropna()\n",
    "df1 = df.dropna()\n",
    "print(df1)"
   ]
  },
  {
   "cell_type": "code",
   "execution_count": 9,
   "id": "6e944e25",
   "metadata": {},
   "outputs": [
    {
     "name": "stdout",
     "output_type": "stream",
     "text": [
      "             Model Name   mpg  cyl   disp   hp  drat     wt  gear\n",
      "0             Mazda RX4  21.0    6  160.0  110  3.90  2.620     4\n",
      "1         Mazda RX4 Wag  21.0    6  160.0  110  3.90  2.875     4\n",
      "2            Datsun 710  22.8    4  108.0   93  3.85  2.320     4\n",
      "3        Hornet 4 Drive  21.4    6  258.0  110  3.08  3.215     3\n",
      "4     Hornet Sportabout  18.7    8  360.0  175  3.15  3.440     3\n",
      "5               Valiant  18.1    6  225.0  105  2.76  3.460     3\n",
      "6            Duster 360  14.3    8  360.0  245  3.21  3.570     3\n",
      "7             Merc 240D  24.4    4  146.7   62  3.69  3.190     4\n",
      "8              Merc 230  22.8    4  140.8   95  3.92  3.150     4\n",
      "9              Merc 280  19.2    6  167.6  123  3.92  3.440     4\n",
      "10            Merc 280C  17.8    6  167.6  123  3.92  3.440     4\n",
      "11           Merc 450SE  16.4    8  275.8  180  3.07  4.070     3\n",
      "12           Merc 450SL  17.3    8  275.8  180  3.07  3.730     3\n",
      "13          Merc 450SLC  15.2    8  275.8  180  3.07  3.780     3\n",
      "14   Cadillac Fleetwood  10.4    8  472.0  205  2.93  5.250     3\n",
      "15  Lincoln Continental  10.4    8  460.0  215  3.00  5.424     3\n",
      "16    Chrysler Imperial  14.7    8  440.0  230  3.23  5.345     3\n",
      "17             Fiat 128  32.4    4   78.7   66  4.08  2.200     4\n",
      "18          Honda Civic  30.4    4   75.7   52  4.93  1.615     4\n",
      "19       Toyota Corolla  33.9    4   71.1   65  4.22  1.835     4\n",
      "20        Toyota Corona  21.5    4  120.1   97  3.70  2.465     3\n",
      "21     Dodge Challenger  15.5    8  318.0  150  2.76  3.520     3\n",
      "22          AMC Javelin  15.2    8  304.0  150  3.15  3.435     3\n",
      "23           Camaro Z28  13.3    8  350.0  245  3.73  3.840     3\n",
      "24     Pontiac Firebird  19.2    8  400.0  175  3.08  3.845     3\n",
      "25            Fiat X1-9  27.3    4   79.0   66  4.08  1.935     4\n",
      "26        Porsche 914-2  26.0    4  120.3   91  4.43  2.140     5\n",
      "27         Lotus Europa  30.4    4   95.1  113  3.77  1.513     5\n",
      "28       Ford Pantera L  15.8    8  351.0  264  4.22  3.170     5\n",
      "29         Ferrari Dino  19.7    6  145.0  175  3.62  2.770     5\n",
      "30        Maserati Bora  15.0    8  301.0  335  3.54  3.570     5\n",
      "31           Volvo 142E  21.4    4  121.0  109  4.11  2.780     4\n"
     ]
    }
   ],
   "source": [
    "# df.dropna(axis=1, how='all',inplace=True)\n",
    "df.dropna(axis=1)\n",
    "print(df)"
   ]
  },
  {
   "cell_type": "markdown",
   "id": "8584d93b",
   "metadata": {},
   "source": [
    "# Fill Null Values with another value"
   ]
  },
  {
   "cell_type": "code",
   "execution_count": 10,
   "id": "4381fece",
   "metadata": {},
   "outputs": [
    {
     "name": "stdout",
     "output_type": "stream",
     "text": [
      "             Model Name   mpg  cyl   disp   hp  drat     wt  gear\n",
      "0             Mazda RX4  21.0    6  160.0  110  3.90  2.620     4\n",
      "1         Mazda RX4 Wag  21.0    6  160.0  110  3.90  2.875     4\n",
      "2            Datsun 710  22.8    4  108.0   93  3.85  2.320     4\n",
      "3        Hornet 4 Drive  21.4    6  258.0  110  3.08  3.215     3\n",
      "4     Hornet Sportabout  18.7    8  360.0  175  3.15  3.440     3\n",
      "5               Valiant  18.1    6  225.0  105  2.76  3.460     3\n",
      "6            Duster 360  14.3    8  360.0  245  3.21  3.570     3\n",
      "7             Merc 240D  24.4    4  146.7   62  3.69  3.190     4\n",
      "8              Merc 230  22.8    4  140.8   95  3.92  3.150     4\n",
      "9              Merc 280  19.2    6  167.6  123  3.92  3.440     4\n",
      "10            Merc 280C  17.8    6  167.6  123  3.92  3.440     4\n",
      "11           Merc 450SE  16.4    8  275.8  180  3.07  4.070     3\n",
      "12           Merc 450SL  17.3    8  275.8  180  3.07  3.730     3\n",
      "13          Merc 450SLC  15.2    8  275.8  180  3.07  3.780     3\n",
      "14   Cadillac Fleetwood  10.4    8  472.0  205  2.93  5.250     3\n",
      "15  Lincoln Continental  10.4    8  460.0  215  3.00  5.424     3\n",
      "16    Chrysler Imperial  14.7    8  440.0  230  3.23  5.345     3\n",
      "17             Fiat 128  32.4    4   78.7   66  4.08  2.200     4\n",
      "18          Honda Civic  30.4    4   75.7   52  4.93  1.615     4\n",
      "19       Toyota Corolla  33.9    4   71.1   65  4.22  1.835     4\n",
      "20        Toyota Corona  21.5    4  120.1   97  3.70  2.465     3\n",
      "21     Dodge Challenger  15.5    8  318.0  150  2.76  3.520     3\n",
      "22          AMC Javelin  15.2    8  304.0  150  3.15  3.435     3\n",
      "23           Camaro Z28  13.3    8  350.0  245  3.73  3.840     3\n",
      "24     Pontiac Firebird  19.2    8  400.0  175  3.08  3.845     3\n",
      "25            Fiat X1-9  27.3    4   79.0   66  4.08  1.935     4\n",
      "26        Porsche 914-2  26.0    4  120.3   91  4.43  2.140     5\n",
      "27         Lotus Europa  30.4    4   95.1  113  3.77  1.513     5\n",
      "28       Ford Pantera L  15.8    8  351.0  264  4.22  3.170     5\n",
      "29         Ferrari Dino  19.7    6  145.0  175  3.62  2.770     5\n",
      "30        Maserati Bora  15.0    8  301.0  335  3.54  3.570     5\n",
      "31           Volvo 142E  21.4    4  121.0  109  4.11  2.780     4\n"
     ]
    }
   ],
   "source": [
    "df.fillna(0,inplace=True)\n",
    "print(df)"
   ]
  },
  {
   "cell_type": "code",
   "execution_count": 13,
   "id": "f4c7c675",
   "metadata": {},
   "outputs": [
    {
     "name": "stdout",
     "output_type": "stream",
     "text": [
      "             Model Name   mpg  cyl   disp   hp  drat  gear\n",
      "0             Mazda RX4  21.0    6  160.0  110  3.90     4\n",
      "1         Mazda RX4 Wag  21.0    6  160.0  110  3.90     4\n",
      "2            Datsun 710  22.8    4  108.0   93  3.85     4\n",
      "3        Hornet 4 Drive  21.4    6  258.0  110  3.08     3\n",
      "4     Hornet Sportabout  18.7    8  360.0  175  3.15     3\n",
      "5               Valiant  18.1    6  225.0  105  2.76     3\n",
      "6            Duster 360  14.3    8  360.0  245  3.21     3\n",
      "7             Merc 240D  24.4    4  146.7   62  3.69     4\n",
      "8              Merc 230  22.8    4  140.8   95  3.92     4\n",
      "9              Merc 280  19.2    6  167.6  123  3.92     4\n",
      "10            Merc 280C  17.8    6  167.6  123  3.92     4\n",
      "11           Merc 450SE  16.4    8  275.8  180  3.07     3\n",
      "12           Merc 450SL  17.3    8  275.8  180  3.07     3\n",
      "13          Merc 450SLC  15.2    8  275.8  180  3.07     3\n",
      "14   Cadillac Fleetwood  10.4    8  472.0  205  2.93     3\n",
      "15  Lincoln Continental  10.4    8  460.0  215  3.00     3\n",
      "16    Chrysler Imperial  14.7    8  440.0  230  3.23     3\n",
      "17             Fiat 128  32.4    4   78.7   66  4.08     4\n",
      "18          Honda Civic  30.4    4   75.7   52  4.93     4\n",
      "19       Toyota Corolla  33.9    4   71.1   65  4.22     4\n",
      "20        Toyota Corona  21.5    4  120.1   97  3.70     3\n",
      "21     Dodge Challenger  15.5    8  318.0  150  2.76     3\n",
      "22          AMC Javelin  15.2    8  304.0  150  3.15     3\n",
      "23           Camaro Z28  13.3    8  350.0  245  3.73     3\n",
      "24     Pontiac Firebird  19.2    8  400.0  175  3.08     3\n",
      "25            Fiat X1-9  27.3    4   79.0   66  4.08     4\n",
      "26        Porsche 914-2  26.0    4  120.3   91  4.43     5\n",
      "27         Lotus Europa  30.4    4   95.1  113  3.77     5\n",
      "28       Ford Pantera L  15.8    8  351.0  264  4.22     5\n",
      "29         Ferrari Dino  19.7    6  145.0  175  3.62     5\n",
      "30        Maserati Bora  15.0    8  301.0  335  3.54     5\n",
      "31           Volvo 142E  21.4    4  121.0  109  4.11     4\n"
     ]
    }
   ],
   "source": [
    "ndf = df.drop('wt' ,axis=1)\n",
    "print(ndf)"
   ]
  },
  {
   "cell_type": "markdown",
   "id": "c5a60a9b",
   "metadata": {},
   "source": [
    "# Drop Duplicate rows from dataframe"
   ]
  },
  {
   "cell_type": "code",
   "execution_count": 32,
   "id": "a6fc22ec",
   "metadata": {},
   "outputs": [
    {
     "data": {
      "text/html": [
       "<div>\n",
       "<style scoped>\n",
       "    .dataframe tbody tr th:only-of-type {\n",
       "        vertical-align: middle;\n",
       "    }\n",
       "\n",
       "    .dataframe tbody tr th {\n",
       "        vertical-align: top;\n",
       "    }\n",
       "\n",
       "    .dataframe thead th {\n",
       "        text-align: right;\n",
       "    }\n",
       "</style>\n",
       "<table border=\"1\" class=\"dataframe\">\n",
       "  <thead>\n",
       "    <tr style=\"text-align: right;\">\n",
       "      <th></th>\n",
       "      <th>student_id</th>\n",
       "      <th>first_name</th>\n",
       "      <th>last_name</th>\n",
       "      <th>age</th>\n",
       "      <th>grade</th>\n",
       "    </tr>\n",
       "  </thead>\n",
       "  <tbody>\n",
       "    <tr>\n",
       "      <th>0</th>\n",
       "      <td>1</td>\n",
       "      <td>John</td>\n",
       "      <td>Doe</td>\n",
       "      <td>18</td>\n",
       "      <td>12</td>\n",
       "    </tr>\n",
       "    <tr>\n",
       "      <th>1</th>\n",
       "      <td>2</td>\n",
       "      <td>Jane</td>\n",
       "      <td>Smith</td>\n",
       "      <td>17</td>\n",
       "      <td>11</td>\n",
       "    </tr>\n",
       "    <tr>\n",
       "      <th>2</th>\n",
       "      <td>3</td>\n",
       "      <td>Michael</td>\n",
       "      <td>Johnson</td>\n",
       "      <td>16</td>\n",
       "      <td>10</td>\n",
       "    </tr>\n",
       "    <tr>\n",
       "      <th>3</th>\n",
       "      <td>4</td>\n",
       "      <td>Emily</td>\n",
       "      <td>Williams</td>\n",
       "      <td>18</td>\n",
       "      <td>12</td>\n",
       "    </tr>\n",
       "    <tr>\n",
       "      <th>4</th>\n",
       "      <td>5</td>\n",
       "      <td>Robert</td>\n",
       "      <td>Brown</td>\n",
       "      <td>17</td>\n",
       "      <td>11</td>\n",
       "    </tr>\n",
       "    <tr>\n",
       "      <th>5</th>\n",
       "      <td>6</td>\n",
       "      <td>Sarah</td>\n",
       "      <td>Miller</td>\n",
       "      <td>16</td>\n",
       "      <td>10</td>\n",
       "    </tr>\n",
       "    <tr>\n",
       "      <th>6</th>\n",
       "      <td>7</td>\n",
       "      <td>William</td>\n",
       "      <td>Jones</td>\n",
       "      <td>18</td>\n",
       "      <td>12</td>\n",
       "    </tr>\n",
       "    <tr>\n",
       "      <th>7</th>\n",
       "      <td>8</td>\n",
       "      <td>Olivia</td>\n",
       "      <td>Davis</td>\n",
       "      <td>17</td>\n",
       "      <td>11</td>\n",
       "    </tr>\n",
       "    <tr>\n",
       "      <th>8</th>\n",
       "      <td>9</td>\n",
       "      <td>James</td>\n",
       "      <td>Garcia</td>\n",
       "      <td>16</td>\n",
       "      <td>10</td>\n",
       "    </tr>\n",
       "    <tr>\n",
       "      <th>9</th>\n",
       "      <td>10</td>\n",
       "      <td>Elizabeth</td>\n",
       "      <td>Rodriguez</td>\n",
       "      <td>18</td>\n",
       "      <td>12</td>\n",
       "    </tr>\n",
       "    <tr>\n",
       "      <th>10</th>\n",
       "      <td>11</td>\n",
       "      <td>Alexander</td>\n",
       "      <td>Martinez</td>\n",
       "      <td>17</td>\n",
       "      <td>11</td>\n",
       "    </tr>\n",
       "    <tr>\n",
       "      <th>11</th>\n",
       "      <td>12</td>\n",
       "      <td>Sophia</td>\n",
       "      <td>Hernandez</td>\n",
       "      <td>16</td>\n",
       "      <td>10</td>\n",
       "    </tr>\n",
       "    <tr>\n",
       "      <th>12</th>\n",
       "      <td>13</td>\n",
       "      <td>Benjamin</td>\n",
       "      <td>Lopez</td>\n",
       "      <td>18</td>\n",
       "      <td>12</td>\n",
       "    </tr>\n",
       "    <tr>\n",
       "      <th>13</th>\n",
       "      <td>14</td>\n",
       "      <td>Isabella</td>\n",
       "      <td>Gonzalez</td>\n",
       "      <td>17</td>\n",
       "      <td>11</td>\n",
       "    </tr>\n",
       "    <tr>\n",
       "      <th>14</th>\n",
       "      <td>15</td>\n",
       "      <td>Mason</td>\n",
       "      <td>Wilson</td>\n",
       "      <td>16</td>\n",
       "      <td>10</td>\n",
       "    </tr>\n",
       "    <tr>\n",
       "      <th>15</th>\n",
       "      <td>16</td>\n",
       "      <td>Evelyn</td>\n",
       "      <td>Anderson</td>\n",
       "      <td>18</td>\n",
       "      <td>12</td>\n",
       "    </tr>\n",
       "    <tr>\n",
       "      <th>16</th>\n",
       "      <td>17</td>\n",
       "      <td>Liam</td>\n",
       "      <td>Thomas</td>\n",
       "      <td>17</td>\n",
       "      <td>11</td>\n",
       "    </tr>\n",
       "    <tr>\n",
       "      <th>17</th>\n",
       "      <td>18</td>\n",
       "      <td>Ava</td>\n",
       "      <td>Taylor</td>\n",
       "      <td>16</td>\n",
       "      <td>10</td>\n",
       "    </tr>\n",
       "    <tr>\n",
       "      <th>18</th>\n",
       "      <td>19</td>\n",
       "      <td>Ethan</td>\n",
       "      <td>Moore</td>\n",
       "      <td>18</td>\n",
       "      <td>12</td>\n",
       "    </tr>\n",
       "    <tr>\n",
       "      <th>19</th>\n",
       "      <td>20</td>\n",
       "      <td>Mia</td>\n",
       "      <td>Jackson</td>\n",
       "      <td>17</td>\n",
       "      <td>11</td>\n",
       "    </tr>\n",
       "    <tr>\n",
       "      <th>20</th>\n",
       "      <td>21</td>\n",
       "      <td>Lucas</td>\n",
       "      <td>Martin</td>\n",
       "      <td>16</td>\n",
       "      <td>10</td>\n",
       "    </tr>\n",
       "    <tr>\n",
       "      <th>21</th>\n",
       "      <td>22</td>\n",
       "      <td>Charlotte</td>\n",
       "      <td>Thompson</td>\n",
       "      <td>18</td>\n",
       "      <td>12</td>\n",
       "    </tr>\n",
       "    <tr>\n",
       "      <th>22</th>\n",
       "      <td>23</td>\n",
       "      <td>0</td>\n",
       "      <td>0</td>\n",
       "      <td>17</td>\n",
       "      <td>11</td>\n",
       "    </tr>\n",
       "    <tr>\n",
       "      <th>23</th>\n",
       "      <td>24</td>\n",
       "      <td>Amelia</td>\n",
       "      <td>Harris</td>\n",
       "      <td>16</td>\n",
       "      <td>10</td>\n",
       "    </tr>\n",
       "    <tr>\n",
       "      <th>24</th>\n",
       "      <td>25</td>\n",
       "      <td>Jacob</td>\n",
       "      <td>Clark</td>\n",
       "      <td>18</td>\n",
       "      <td>12</td>\n",
       "    </tr>\n",
       "  </tbody>\n",
       "</table>\n",
       "</div>"
      ],
      "text/plain": [
       "    student_id first_name  last_name  age  grade\n",
       "0            1       John        Doe   18     12\n",
       "1            2       Jane      Smith   17     11\n",
       "2            3    Michael    Johnson   16     10\n",
       "3            4      Emily   Williams   18     12\n",
       "4            5     Robert      Brown   17     11\n",
       "5            6      Sarah     Miller   16     10\n",
       "6            7    William      Jones   18     12\n",
       "7            8     Olivia      Davis   17     11\n",
       "8            9      James     Garcia   16     10\n",
       "9           10  Elizabeth  Rodriguez   18     12\n",
       "10          11  Alexander   Martinez   17     11\n",
       "11          12     Sophia  Hernandez   16     10\n",
       "12          13   Benjamin      Lopez   18     12\n",
       "13          14   Isabella   Gonzalez   17     11\n",
       "14          15      Mason     Wilson   16     10\n",
       "15          16     Evelyn   Anderson   18     12\n",
       "16          17       Liam     Thomas   17     11\n",
       "17          18        Ava     Taylor   16     10\n",
       "18          19      Ethan      Moore   18     12\n",
       "19          20        Mia    Jackson   17     11\n",
       "20          21      Lucas     Martin   16     10\n",
       "21          22  Charlotte   Thompson   18     12\n",
       "22          23          0          0   17     11\n",
       "23          24     Amelia     Harris   16     10\n",
       "24          25      Jacob      Clark   18     12"
      ]
     },
     "execution_count": 32,
     "metadata": {},
     "output_type": "execute_result"
    }
   ],
   "source": [
    "df.drop_duplicates()"
   ]
  },
  {
   "cell_type": "code",
   "execution_count": null,
   "id": "202d6b05",
   "metadata": {},
   "outputs": [],
   "source": []
  }
 ],
 "metadata": {
  "kernelspec": {
   "display_name": "Python 3 (ipykernel)",
   "language": "python",
   "name": "python3"
  },
  "language_info": {
   "codemirror_mode": {
    "name": "ipython",
    "version": 3
   },
   "file_extension": ".py",
   "mimetype": "text/x-python",
   "name": "python",
   "nbconvert_exporter": "python",
   "pygments_lexer": "ipython3",
   "version": "3.10.7"
  }
 },
 "nbformat": 4,
 "nbformat_minor": 5
}
