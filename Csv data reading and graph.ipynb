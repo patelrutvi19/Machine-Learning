
Reading Csv File
import pandas as pd
import plotly.express as px
df = pd.read_csv('MOCK_DATA.csv')
df
id	product_name	product_id	quantity	price
0	1	Pasta - Penne Primavera, Single	5	19	2486
1	2	Soup - Campbells Chili Veg	5	29	1779
2	3	Wine - Chardonnay South	9	37	7575
3	4	Juice - Clamato, 341 Ml	4	19	5067
4	5	Pasta - Gnocchi, Potato	1	5	3260
...	...	...	...	...	...
995	996	Veal - Chops, Split, Frenched	8	26	2261
996	997	Chutney Sauce	5	43	8699
997	998	Meldea Green Tea Liquor	6	28	3994
998	999	Asparagus - Mexican	10	9	3003
999	1000	Eggwhite Frozen	9	15	8083
1000 rows × 5 columns

df.columns
Index(['id', 'product_name', 'product_id', 'quantity', 'price'], dtype='object')
# df.drop(columns='Unnamed: 0',inplace=True)
df
id	product_name	product_id	quantity	price
0	1	Pasta - Penne Primavera, Single	5	19	2486
1	2	Soup - Campbells Chili Veg	5	29	1779
2	3	Wine - Chardonnay South	9	37	7575
3	4	Juice - Clamato, 341 Ml	4	19	5067
4	5	Pasta - Gnocchi, Potato	1	5	3260
...	...	...	...	...	...
995	996	Veal - Chops, Split, Frenched	8	26	2261
996	997	Chutney Sauce	5	43	8699
997	998	Meldea Green Tea Liquor	6	28	3994
998	999	Asparagus - Mexican	10	9	3003
999	1000	Eggwhite Frozen	9	15	8083
1000 rows × 5 columns

df.isnull().sum()
id              0
product_name    0
product_id      0
quantity        0
price           0
dtype: int64
a = df[df['price']>3000]
a
id	product_name	product_id	quantity	price
2	3	Wine - Chardonnay South	9	37	7575
3	4	Juice - Clamato, 341 Ml	4	19	5067
4	5	Pasta - Gnocchi, Potato	1	5	3260
6	7	Vodka - Hot, Lnferno	4	11	9113
7	8	Island Oasis - Cappucino Mix	3	46	3746
...	...	...	...	...	...
993	994	Banana Turning	6	31	9933
996	997	Chutney Sauce	5	43	8699
997	998	Meldea Green Tea Liquor	6	28	3994
998	999	Asparagus - Mexican	10	9	3003
999	1000	Eggwhite Frozen	9	15	8083
782 rows × 5 columns

fig = px.bar(df, x=df['product_id'], y=df['price'], title='Life expectancy in Canada')
fig.show()
 
