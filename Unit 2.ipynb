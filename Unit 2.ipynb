
import pandas as pd

df = pd.read_csv("1.csv")
# print(df)

# print(df.size)


# print(df.columns)


# print(df.isnull().sum())

# print(df.ndim)

# print(df)
# df.dropna()
# print(df)
# print(df.isnull().sum())
# print(df.Period)
ndf = df[['Period','STATUS']]
print(ndf)
     Period STATUS
0   2016.06      F
1   2016.09      F
2   2016.12      F
3   2017.03      F
4   2017.06      F
5   2017.09      F
6       NaN    NaN
7   2018.03      F
8   2018.06      F
9   2018.09      F
10  2018.12      F
11  2019.03      F
12  2019.06      F
13  2019.09      F
14  2019.12      F
15  2020.03      F
16  2020.06      F
17  2020.09      F
18  2020.12      F
import pandas as pd
import matplotlib.pyplot as plt

df = pd.read_csv("cricket.csv")
# print(df)
# del df['Venue','Player Of The Match',' Toss Winning',' Toss Decision']
# print(df)
# df = df.drop(11) 
# print(df)

plt.line(df['Fall of wickets First Innings'], df['Fall of wickets Second Innings'], color='blue', s=100, edgecolor='black')

# Add labels and title
plt.xlabel('Value')
plt.ylabel('Category')
plt.title('Dot Chart Example')

# Show grid for better readability
plt.grid(True, which='both', linestyle='--', linewidth=0.7)

# Display the chart
plt.show()

 
